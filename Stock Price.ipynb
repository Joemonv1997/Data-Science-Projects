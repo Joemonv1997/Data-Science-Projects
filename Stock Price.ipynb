{
 "cells": [
  {
   "cell_type": "markdown",
   "metadata": {},
   "source": [
    "## This is the jupyter notebook which uses google stock price downloaded from yahoo finance and predict the price of future stocks"
   ]
  },
  {
   "cell_type": "markdown",
   "metadata": {},
   "source": [
    "### Import Libraries to be used in this Project"
   ]
  },
  {
   "cell_type": "code",
   "execution_count": 1,
   "metadata": {},
   "outputs": [],
   "source": [
    "import numpy as np\n",
    "import pandas as pd\n",
    "from sklearn import preprocessing\n",
    "from sklearn.model_selection import train_test_split\n",
    "from sklearn.linear_model import LinearRegression"
   ]
  },
  {
   "cell_type": "markdown",
   "metadata": {},
   "source": [
    "## Read the csv file and view the first 5 rows of the datasets"
   ]
  },
  {
   "cell_type": "code",
   "execution_count": 2,
   "metadata": {},
   "outputs": [
    {
     "data": {
      "text/html": [
       "<div>\n",
       "<style scoped>\n",
       "    .dataframe tbody tr th:only-of-type {\n",
       "        vertical-align: middle;\n",
       "    }\n",
       "\n",
       "    .dataframe tbody tr th {\n",
       "        vertical-align: top;\n",
       "    }\n",
       "\n",
       "    .dataframe thead th {\n",
       "        text-align: right;\n",
       "    }\n",
       "</style>\n",
       "<table border=\"1\" class=\"dataframe\">\n",
       "  <thead>\n",
       "    <tr style=\"text-align: right;\">\n",
       "      <th></th>\n",
       "      <th>Date</th>\n",
       "      <th>Open</th>\n",
       "      <th>High</th>\n",
       "      <th>Low</th>\n",
       "      <th>Close</th>\n",
       "      <th>Adj Close</th>\n",
       "      <th>Volume</th>\n",
       "    </tr>\n",
       "  </thead>\n",
       "  <tbody>\n",
       "    <tr>\n",
       "      <th>0</th>\n",
       "      <td>2020-03-18</td>\n",
       "      <td>1056.510010</td>\n",
       "      <td>1106.500000</td>\n",
       "      <td>1037.280029</td>\n",
       "      <td>1096.800049</td>\n",
       "      <td>1096.800049</td>\n",
       "      <td>4233400</td>\n",
       "    </tr>\n",
       "    <tr>\n",
       "      <th>1</th>\n",
       "      <td>2020-03-19</td>\n",
       "      <td>1093.050049</td>\n",
       "      <td>1157.969971</td>\n",
       "      <td>1060.108032</td>\n",
       "      <td>1115.290039</td>\n",
       "      <td>1115.290039</td>\n",
       "      <td>3651100</td>\n",
       "    </tr>\n",
       "    <tr>\n",
       "      <th>2</th>\n",
       "      <td>2020-03-20</td>\n",
       "      <td>1135.719971</td>\n",
       "      <td>1143.989990</td>\n",
       "      <td>1065.489990</td>\n",
       "      <td>1072.319946</td>\n",
       "      <td>1072.319946</td>\n",
       "      <td>3601800</td>\n",
       "    </tr>\n",
       "    <tr>\n",
       "      <th>3</th>\n",
       "      <td>2020-03-23</td>\n",
       "      <td>1061.319946</td>\n",
       "      <td>1071.319946</td>\n",
       "      <td>1013.536011</td>\n",
       "      <td>1056.619995</td>\n",
       "      <td>1056.619995</td>\n",
       "      <td>4044100</td>\n",
       "    </tr>\n",
       "    <tr>\n",
       "      <th>4</th>\n",
       "      <td>2020-03-24</td>\n",
       "      <td>1103.770020</td>\n",
       "      <td>1135.000000</td>\n",
       "      <td>1090.619995</td>\n",
       "      <td>1134.459961</td>\n",
       "      <td>1134.459961</td>\n",
       "      <td>3344500</td>\n",
       "    </tr>\n",
       "  </tbody>\n",
       "</table>\n",
       "</div>"
      ],
      "text/plain": [
       "         Date         Open         High          Low        Close  \\\n",
       "0  2020-03-18  1056.510010  1106.500000  1037.280029  1096.800049   \n",
       "1  2020-03-19  1093.050049  1157.969971  1060.108032  1115.290039   \n",
       "2  2020-03-20  1135.719971  1143.989990  1065.489990  1072.319946   \n",
       "3  2020-03-23  1061.319946  1071.319946  1013.536011  1056.619995   \n",
       "4  2020-03-24  1103.770020  1135.000000  1090.619995  1134.459961   \n",
       "\n",
       "     Adj Close   Volume  \n",
       "0  1096.800049  4233400  \n",
       "1  1115.290039  3651100  \n",
       "2  1072.319946  3601800  \n",
       "3  1056.619995  4044100  \n",
       "4  1134.459961  3344500  "
      ]
     },
     "execution_count": 2,
     "metadata": {},
     "output_type": "execute_result"
    }
   ],
   "source": [
    "df = pd.read_csv(\"Datasets/GOOG.csv\")\n",
    "df.head()"
   ]
  },
  {
   "cell_type": "markdown",
   "metadata": {},
   "source": [
    "### Prepare the datasets for the model to be trained\n",
    "- Creating new column called label with the last 5 rows are nan\n",
    "\n",
    "- Creating, preprocess the feature array and dropping na values\n",
    "- Split the datset to train and test"
   ]
  },
  {
   "cell_type": "code",
   "execution_count": 3,
   "metadata": {},
   "outputs": [],
   "source": [
    "def prepare_data(df,forecast_col,forecast_out,test_size):\n",
    "    label = df[forecast_col].shift(-forecast_out) \n",
    "    \n",
    "    X = np.array(df[[forecast_col]])\n",
    "    \n",
    "    X = preprocessing.scale(X) #processing the feature array\n",
    "    X_lately = X[-forecast_out:] #creating the column i want to use later in the predicting method\n",
    "    X = X[:-forecast_out] # X that will contain the training and testing\n",
    "    label.dropna(inplace=True) #dropping na values\n",
    "    y = np.array(label)  # assigning Y\n",
    "    X_train, X_test, Y_train, Y_test = train_test_split(X, y, test_size=test_size, random_state=0) #cross validation\n",
    "    \n",
    "    response = [X_train,X_test , Y_train, Y_test , X_lately]\n",
    "    return response\n"
   ]
  },
  {
   "cell_type": "markdown",
   "metadata": {},
   "source": [
    "Define the `forecast col,out and test size `"
   ]
  },
  {
   "cell_type": "code",
   "execution_count": 4,
   "metadata": {},
   "outputs": [],
   "source": [
    "forecast_col = 'Close'\n",
    "forecast_out = 5\n",
    "test_size = 0.2"
   ]
  },
  {
   "cell_type": "markdown",
   "metadata": {},
   "source": [
    "- Define the mopdel\n",
    "- Fit the model\n",
    "- Predict the model"
   ]
  },
  {
   "cell_type": "code",
   "execution_count": 5,
   "metadata": {},
   "outputs": [
    {
     "data": {
      "text/plain": [
       "LinearRegression()"
      ]
     },
     "execution_count": 5,
     "metadata": {},
     "output_type": "execute_result"
    }
   ],
   "source": [
    "X_train, X_test, Y_train, Y_test , X_lately =prepare_data(df,forecast_col,forecast_out,test_size); \n",
    "learner = LinearRegression()\n",
    "X_train\n",
    "learner.fit(X_train,Y_train)"
   ]
  },
  {
   "cell_type": "markdown",
   "metadata": {},
   "source": [
    "- Test the score of the model\n",
    "- Predict the forecast_out values"
   ]
  },
  {
   "cell_type": "code",
   "execution_count": 6,
   "metadata": {},
   "outputs": [
    {
     "name": "stdout",
     "output_type": "stream",
     "text": [
      "{'test_score': 0.9159769021833225, 'forecast_set': array([2115.20650962, 2064.29625248, 2068.69857804, 2093.77318662,\n",
      "       2092.38609709])}\n"
     ]
    }
   ],
   "source": [
    "score=learner.score(X_test,Y_test)#testing the linear regression model\n",
    "forecast= learner.predict(X_lately) #set that will contain the forecasted data\n",
    "response={}\n",
    "response['test_score']=score\n",
    "response['forecast_set']=forecast\n",
    "print(response)"
   ]
  },
  {
   "cell_type": "code",
   "execution_count": null,
   "metadata": {},
   "outputs": [],
   "source": []
  }
 ],
 "metadata": {
  "kernelspec": {
   "display_name": "Python 3",
   "language": "python",
   "name": "python3"
  },
  "language_info": {
   "codemirror_mode": {
    "name": "ipython",
    "version": 3
   },
   "file_extension": ".py",
   "mimetype": "text/x-python",
   "name": "python",
   "nbconvert_exporter": "python",
   "pygments_lexer": "ipython3",
   "version": "3.8.5"
  }
 },
 "nbformat": 4,
 "nbformat_minor": 4
}
